{
 "cells": [
  {
   "cell_type": "code",
   "execution_count": null,
   "id": "2b720108",
   "metadata": {},
   "outputs": [],
   "source": [
    "import wave\n",
    "import numpy as np\n",
    "import sys\n",
    "import matplotlib.pyplot as  plt"
   ]
  },
  {
   "cell_type": "code",
   "execution_count": null,
   "id": "84113a06",
   "metadata": {},
   "outputs": [],
   "source": [
    "wav = wave.open(\"rem.wav\",\"r\")\n",
    "raw = wav.readframes(-1)\n",
    "raw = np.frombuffer(raw,\"Int16\")\n",
    "sampleRate = wav.getframerate()\n",
    "\n",
    "if wav.getnchannels() == 2:\n",
    "    print(\"Stereo Files are not supported.Use Mono files\")\n",
    "Time = np.linespace(0,len(raw)/sampleRate,num=len(raw))\n",
    "plt.title(\"Waveform of Wave file\")\n",
    "plt.plot(Time,raw,color=\"blue\")\n",
    "ply.ylabel(\"Amplitude\")\n",
    "plt.show()"
   ]
  },
  {
   "cell_type": "code",
   "execution_count": null,
   "id": "d014eee7",
   "metadata": {},
   "outputs": [],
   "source": []
  },
  {
   "cell_type": "code",
   "execution_count": null,
   "id": "82e79a03",
   "metadata": {},
   "outputs": [],
   "source": []
  },
  {
   "cell_type": "code",
   "execution_count": null,
   "id": "4f2d59a3",
   "metadata": {},
   "outputs": [],
   "source": []
  }
 ],
 "metadata": {
  "kernelspec": {
   "display_name": "Python 3",
   "language": "python",
   "name": "python3"
  },
  "language_info": {
   "codemirror_mode": {
    "name": "ipython",
    "version": 3
   },
   "file_extension": ".py",
   "mimetype": "text/x-python",
   "name": "python",
   "nbconvert_exporter": "python",
   "pygments_lexer": "ipython3",
   "version": "3.8.8"
  }
 },
 "nbformat": 4,
 "nbformat_minor": 5
}
